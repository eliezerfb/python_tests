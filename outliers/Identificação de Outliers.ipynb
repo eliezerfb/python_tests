{
 "cells": [
  {
   "cell_type": "markdown",
   "metadata": {},
   "source": [
    "Pequeno exemplo de identificação de Outliers baseado na newsletter \"Identificando ovelhas negras\" do minerandodados.com.br (04/04/2018)."
   ]
  },
  {
   "cell_type": "code",
   "execution_count": 1,
   "metadata": {
    "collapsed": true
   },
   "outputs": [],
   "source": [
    "import numpy\n",
    "%matplotlib inline\n",
    "import seaborn as sns"
   ]
  },
  {
   "cell_type": "code",
   "execution_count": 2,
   "metadata": {
    "collapsed": true
   },
   "outputs": [],
   "source": [
    "data = [10, 386, 479, 627, 20, 523, 482, 483, 542, 699, 535, 617, 577, 471, 615, 583, 441, 562, 563, 527,\n",
    "       453, 530, 433, 541, 585, 704, 443, 569, 430, 637, 331, 511, 552, 496, 484, 566, 554, 472, 335,\n",
    "       440, 579, 341, 545, 615, 548, 604, 439, 556, 442, 461, 624, 611, 444, 578, 405, 487, 490, 496, 398,\n",
    "       512, 422, 455, 449, 432, 607, 679, 434, 597, 639, 565, 415, 486, 668, 414, 665, 763, 557, 304, 404, 454,\n",
    "       689, 610, 483, 441, 657, 590, 492, 476, 437, 483, 529, 363, 711, 543,30, 1300, 1350, 1400]"
   ]
  },
  {
   "cell_type": "code",
   "execution_count": 3,
   "metadata": {},
   "outputs": [
    {
     "name": "stdout",
     "output_type": "stream",
     "text": [
      "[  10  386  479  627   20  523  482  483  542  699  535  617  577  471  615\n",
      "  583  441  562  563  527  453  530  433  541  585  704  443  569  430  637\n",
      "  331  511  552  496  484  566  554  472  335  440  579  341  545  615  548\n",
      "  604  439  556  442  461  624  611  444  578  405  487  490  496  398  512\n",
      "  422  455  449  432  607  679  434  597  639  565  415  486  668  414  665\n",
      "  763  557  304  404  454  689  610  483  441  657  590  492  476  437  483\n",
      "  529  363  711  543   30 1300 1350 1400]\n"
     ]
    }
   ],
   "source": [
    "data = numpy.array(data)\n",
    "print(data)"
   ]
  },
  {
   "cell_type": "code",
   "execution_count": 4,
   "metadata": {},
   "outputs": [
    {
     "data": {
      "image/png": "[encoded data removed]",
      "text/plain": [
       "<matplotlib.figure.Figure at 0x2370f038208>"
      ]
     },
     "metadata": {},
     "output_type": "display_data"
    }
   ],
   "source": [
    "# Gera um gráfico boxplot para visualizar os dados que são outliers\n",
    "sns.set(style=\"whitegrid\", color_codes=True)\n",
    "sns.boxplot(data=data);"
   ]
  },
  {
   "cell_type": "code",
   "execution_count": 5,
   "metadata": {},
   "outputs": [],
   "source": [
    "mean = numpy.mean(data, axis=0) # Calcula a média\n",
    "sd = numpy.std(data, axis=0) # e o desvio padrão"
   ]
  },
  {
   "cell_type": "code",
   "execution_count": 6,
   "metadata": {},
   "outputs": [
    {
     "name": "stdout",
     "output_type": "stream",
     "text": [
      "145.344009427\n"
     ]
    }
   ],
   "source": [
    "down = mean - 2 * sd # identifica o limite de corte inferior\n",
    "print(down)"
   ]
  },
  {
   "cell_type": "code",
   "execution_count": 7,
   "metadata": {},
   "outputs": [
    {
     "name": "stdout",
     "output_type": "stream",
     "text": [
      "915.390684451\n"
     ]
    }
   ],
   "source": [
    "upper = mean + 2 * sd # e o limite de corte superior\n",
    "print(upper)"
   ]
  },
  {
   "cell_type": "code",
   "execution_count": 8,
   "metadata": {},
   "outputs": [
    {
     "name": "stdout",
     "output_type": "stream",
     "text": [
      "[10, 20, 30]\n",
      "[1300, 1350, 1400]\n"
     ]
    }
   ],
   "source": [
    "# Os valores que estão abaixo do limite inferior e superior são considerados outliers\n",
    "print([value for value in data if value<down])\n",
    "print([value for value in data if value>upper])"
   ]
  },
  {
   "cell_type": "code",
   "execution_count": null,
   "metadata": {
    "collapsed": true
   },
   "outputs": [],
   "source": []
  }
 ],
 "metadata": {
  "kernelspec": {
   "display_name": "Python 3",
   "language": "python",
   "name": "python3"
  },
  "language_info": {
   "codemirror_mode": {
    "name": "ipython",
    "version": 3
   },
   "file_extension": ".py",
   "mimetype": "text/x-python",
   "name": "python",
   "nbconvert_exporter": "python",
   "pygments_lexer": "ipython3",
   "version": "3.6.3"
  }
 },
 "nbformat": 4,
 "nbformat_minor": 2
}
